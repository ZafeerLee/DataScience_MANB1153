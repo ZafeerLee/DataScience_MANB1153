{
 "cells": [
  {
   "cell_type": "markdown",
   "metadata": {},
   "source": [
    "# Quiz 1: Food vs Feed (30 minutes)"
   ]
  },
  {
   "cell_type": "markdown",
   "metadata": {},
   "source": [
    "Name: Your Name\n",
    "\n",
    "Matric No: xxxx"
   ]
  },
  {
   "cell_type": "markdown",
   "metadata": {},
   "source": [
    "## Overview\n",
    "\n",
    "The Food and Agriculture Organization of the United Nations provides free access to food and agriculture data for over 245 countries and territories, from the year 1961 to the most recent update (depends on the dataset). One dataset from the FAO's database is the Food Balance Sheets. It presents a comprehensive picture of the pattern of a country's food supply during a specified reference period, the last time an update was loaded to the FAO database was in 2013. The food balance sheet shows for each food item the sources of supply and its utilization. This chunk of the dataset is focused on two utilizations of each food item available:\n",
    "\n",
    "Food - refers to the total amount of the food item available as human food during the reference period.\n",
    "Feed - refers to the quantity of the food item available for feeding to the livestock and poultry during the reference period.\n",
    "\n",
    "### Instructions\n",
    "1. Download FAO.csv\n",
    "2. Read and create Dataframe from the CSV file\n",
    "Note: The CSV file is Latin1-encoded. Read in the file using, e.g., fao = pd.read_csv(\"fao.csv\", encoding='latin1')\n",
    "3. Answer the questions by editing this notebook:\n",
    "    a. What is your strategies to find the outliers of the data?  What type of visualization is the most suitable to find outliers?\n",
    "    b. Compare between food and feed consumption. Explain your strategies (the steps that you are going to do).\n",
    "\n"
   ]
  },
  {
   "cell_type": "code",
   "execution_count": null,
   "metadata": {},
   "outputs": [],
   "source": []
  }
 ],
 "metadata": {
  "kernelspec": {
   "display_name": "Python 3",
   "language": "python",
   "name": "python3"
  },
  "language_info": {
   "codemirror_mode": {
    "name": "ipython",
    "version": 3
   },
   "file_extension": ".py",
   "mimetype": "text/x-python",
   "name": "python",
   "nbconvert_exporter": "python",
   "pygments_lexer": "ipython3",
   "version": "3.6.3"
  }
 },
 "nbformat": 4,
 "nbformat_minor": 2
}
